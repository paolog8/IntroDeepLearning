{
 "cells": [
  {
   "cell_type": "code",
   "execution_count": 1,
   "metadata": {},
   "outputs": [
    {
     "name": "stderr",
     "output_type": "stream",
     "text": [
      "Using TensorFlow backend.\n"
     ]
    }
   ],
   "source": [
    "import tensorflow as tf\n",
    "import keras\n",
    "from keras.datasets import mnist\n",
    "from keras.models import Sequential\n",
    "from keras.layers import Dense, Dropout, Flatten, Input\n",
    "from keras.layers import Conv2D, MaxPooling2D\n",
    "from keras import backend as K\n",
    "import numpy as np"
   ]
  },
  {
   "cell_type": "code",
   "execution_count": 2,
   "metadata": {},
   "outputs": [],
   "source": [
    "batch_size = 128\n",
    "n_classes = 10\n",
    "n_epochs = 10\n",
    "\n",
    "im_row, im_col = 28, 28"
   ]
  },
  {
   "cell_type": "code",
   "execution_count": 3,
   "metadata": {},
   "outputs": [],
   "source": [
    "(x_train, y_train), (x_test, y_test) = mnist.load_data()"
   ]
  },
  {
   "cell_type": "code",
   "execution_count": 4,
   "metadata": {},
   "outputs": [
    {
     "data": {
      "image/png": "[encoded data removed]",
      "text/plain": [
       "<Figure size 432x288 with 1 Axes>"
      ]
     },
     "metadata": {
      "needs_background": "light"
     },
     "output_type": "display_data"
    }
   ],
   "source": [
    "import matplotlib.pyplot as plt\n",
    "%matplotlib inline\n",
    "\n",
    "plt.imshow(x_train[1], cmap=\"gray\")\n",
    "plt.show()"
   ]
  },
  {
   "cell_type": "code",
   "execution_count": 5,
   "metadata": {},
   "outputs": [
    {
     "data": {
      "image/png": "[encoded data removed]",
      "text/plain": [
       "<Figure size 1080x720 with 10 Axes>"
      ]
     },
     "metadata": {},
     "output_type": "display_data"
    }
   ],
   "source": [
    "fig = plt.figure(figsize=(15,10))\n",
    "\n",
    "i=0\n",
    "for f in range(0, y_train.shape[0]):\n",
    "    if (y_train[f] == 1 and i < 10):\n",
    "        plt.subplot(2,5, i+1)\n",
    "        plt.imshow(x_train[f], cmap=\"gray\")\n",
    "        plt.xticks([])\n",
    "        plt.yticks([])\n",
    "        i=i+1\n",
    "\n",
    "plt.show()"
   ]
  },
  {
   "cell_type": "code",
   "execution_count": 6,
   "metadata": {},
   "outputs": [
    {
     "name": "stdout",
     "output_type": "stream",
     "text": [
      "x_train: (60000, 28, 28)\n",
      "x_test: (10000, 28, 28)\n",
      "\n"
     ]
    }
   ],
   "source": [
    "print(\"x_train: {}\\nx_test: {}\\n\".format(x_train.shape, x_test.shape, ))"
   ]
  },
  {
   "cell_type": "code",
   "execution_count": 7,
   "metadata": {},
   "outputs": [],
   "source": [
    "if K.image_data_format() == \"channels_first\":\n",
    "    x_train = x_train.reshape(x_train.shape[0], 1, im_row, im_col)\n",
    "    x_test = x_test.reshape(x_test.shape[0], 1, im_row, im_col)\n",
    "    input_shape = (1, im_row, im_col)\n",
    "else:\n",
    "    x_train = x_train.reshape(x_train.shape[0], im_row, im_col, 1)\n",
    "    x_test = x_test.reshape(x_test.shape[0], im_row, im_col, 1)\n",
    "    input_shape = (im_row, im_col, 1)"
   ]
  },
  {
   "cell_type": "code",
   "execution_count": 8,
   "metadata": {},
   "outputs": [],
   "source": [
    "x_train = x_train.astype(\"float32\")\n",
    "x_test = x_test.astype(\"float32\")\n",
    "x_train /= 255\n",
    "x_test /= 255\n",
    "\n",
    "y_train = keras.utils.to_categorical(y_train, n_classes)\n",
    "y_test = keras.utils.to_categorical(y_test, n_classes)"
   ]
  },
  {
   "cell_type": "code",
   "execution_count": 9,
   "metadata": {},
   "outputs": [
    {
     "name": "stdout",
     "output_type": "stream",
     "text": [
      "x_train: (60000, 28, 28, 1)\n",
      "x_test: (10000, 28, 28, 1)\n",
      "input_shape: (28, 28, 1)\n",
      "# of training samples: 60000\n",
      "# of test samples: 10000\n"
     ]
    }
   ],
   "source": [
    "print(\"x_train: {}\\nx_test: {}\\ninput_shape: {}\\n# of training samples: {}\\n# of test samples: {}\".format(\n",
    "x_train.shape, x_test.shape, input_shape, x_train.shape[0], x_test.shape[0]))"
   ]
  },
  {
   "cell_type": "code",
   "execution_count": 10,
   "metadata": {},
   "outputs": [
    {
     "name": "stdout",
     "output_type": "stream",
     "text": [
      "Model: \"sequential_1\"\n",
      "_________________________________________________________________\n",
      "Layer (type)                 Output Shape              Param #   \n",
      "=================================================================\n",
      "conv2d_1 (Conv2D)            (None, 26, 26, 32)        320       \n",
      "_________________________________________________________________\n",
      "conv2d_2 (Conv2D)            (None, 24, 24, 64)        18496     \n",
      "_________________________________________________________________\n",
      "max_pooling2d_1 (MaxPooling2 (None, 12, 12, 64)        0         \n",
      "_________________________________________________________________\n",
      "dropout_1 (Dropout)          (None, 12, 12, 64)        0         \n",
      "_________________________________________________________________\n",
      "flatten_1 (Flatten)          (None, 9216)              0         \n",
      "_________________________________________________________________\n",
      "dense_1 (Dense)              (None, 128)               1179776   \n",
      "_________________________________________________________________\n",
      "dropout_2 (Dropout)          (None, 128)               0         \n",
      "_________________________________________________________________\n",
      "dense_2 (Dense)              (None, 10)                1290      \n",
      "=================================================================\n",
      "Total params: 1,199,882\n",
      "Trainable params: 1,199,882\n",
      "Non-trainable params: 0\n",
      "_________________________________________________________________\n"
     ]
    }
   ],
   "source": [
    "model = Sequential()\n",
    "\n",
    "model.add(Conv2D(32, kernel_size=(3, 3), activation=\"relu\", input_shape=input_shape))\n",
    "model.add(Conv2D(64, (3, 3), activation=\"relu\"))\n",
    "model.add(MaxPooling2D(pool_size=(2, 2)))\n",
    "model.add(Dropout(0.25))\n",
    "model.add(Flatten())\n",
    "model.add(Dense(128, activation=\"relu\"))\n",
    "model.add(Dropout(0.5))\n",
    "model.add(Dense(n_classes, activation=\"softmax\"))\n",
    "\n",
    "model.compile(loss=keras.losses.categorical_crossentropy, optimizer=keras.optimizers.Adam(), metrics=[\"accuracy\"])\n",
    "\n",
    "model.summary()"
   ]
  },
  {
   "cell_type": "code",
   "execution_count": 11,
   "metadata": {},
   "outputs": [
    {
     "name": "stdout",
     "output_type": "stream",
     "text": [
      "Train on 60000 samples, validate on 10000 samples\n",
      "Epoch 1/10\n",
      "60000/60000 [==============================] - 89s 1ms/step - loss: 0.2574 - accuracy: 0.9209 - val_loss: 0.0555 - val_accuracy: 0.9829\n",
      "Epoch 2/10\n",
      "60000/60000 [==============================] - 93s 2ms/step - loss: 0.0939 - accuracy: 0.9724 - val_loss: 0.0414 - val_accuracy: 0.9867\n",
      "Epoch 3/10\n",
      "60000/60000 [==============================] - 92s 2ms/step - loss: 0.0694 - accuracy: 0.9783 - val_loss: 0.0361 - val_accuracy: 0.9882\n",
      "Epoch 4/10\n",
      "60000/60000 [==============================] - 101s 2ms/step - loss: 0.0566 - accuracy: 0.9832 - val_loss: 0.0345 - val_accuracy: 0.9894\n",
      "Epoch 5/10\n",
      "60000/60000 [==============================] - 106s 2ms/step - loss: 0.0482 - accuracy: 0.9848 - val_loss: 0.0280 - val_accuracy: 0.9912\n",
      "Epoch 6/10\n",
      "60000/60000 [==============================] - 110s 2ms/step - loss: 0.0431 - accuracy: 0.9866 - val_loss: 0.0264 - val_accuracy: 0.9917\n",
      "Epoch 7/10\n",
      "60000/60000 [==============================] - 105s 2ms/step - loss: 0.0382 - accuracy: 0.9882 - val_loss: 0.0280 - val_accuracy: 0.9909\n",
      "Epoch 8/10\n",
      "60000/60000 [==============================] - 96s 2ms/step - loss: 0.0305 - accuracy: 0.9902 - val_loss: 0.0267 - val_accuracy: 0.9911\n",
      "Epoch 9/10\n",
      "60000/60000 [==============================] - 98s 2ms/step - loss: 0.0314 - accuracy: 0.9900 - val_loss: 0.0252 - val_accuracy: 0.9923\n",
      "Epoch 10/10\n",
      "60000/60000 [==============================] - 107s 2ms/step - loss: 0.0262 - accuracy: 0.9913 - val_loss: 0.0283 - val_accuracy: 0.9917\n",
      "Test loss: 0.028335881075695762\n",
      "Test accuracy: 0.9916999936103821\n"
     ]
    }
   ],
   "source": [
    "from keras.callbacks.callbacks import ModelCheckpoint\n",
    "\n",
    "checkpoint = ModelCheckpoint(filepath=\"keras_MNIST_CNN.h5\", verbose=0, save_best_only=True)\n",
    "\n",
    "model.fit(x_train, y_train,\n",
    "         batch_size=batch_size,\n",
    "         epochs=n_epochs,\n",
    "         verbose=1,\n",
    "         validation_data=(x_test, y_test),\n",
    "         callbacks=[checkpoint])\n",
    "\n",
    "score = model.evaluate(x_test, y_test, verbose=0)\n",
    "print(\"Test loss:\", score[0])\n",
    "print(\"Test accuracy:\", score[1])"
   ]
  },
  {
   "cell_type": "code",
   "execution_count": 13,
   "metadata": {},
   "outputs": [
    {
     "name": "stdout",
     "output_type": "stream",
     "text": [
      "AUC: 99.56%\n"
     ]
    }
   ],
   "source": [
    "from sklearn.metrics import roc_auc_score\n",
    "\n",
    "preds = model.predict(x_test)\n",
    "auc = roc_auc_score(np.round(preds), y_test)\n",
    "print(\"AUC: {:.2%}\".format(auc))"
   ]
  },
  {
   "cell_type": "code",
   "execution_count": 17,
   "metadata": {},
   "outputs": [
    {
     "name": "stderr",
     "output_type": "stream",
     "text": [
      "c:\\users\\polko\\docume~1\\anomal~1\\venv35\\lib\\site-packages\\ipykernel_launcher.py:4: UserWarning: Update your `Model` call to the Keras 2 API: `Model(inputs=Tensor(\"co..., outputs=[<tf.Tenso...)`\n",
      "  after removing the cwd from sys.path.\n"
     ]
    },
    {
     "data": {
      "image/png": "[encoded data removed]",
      "text/plain": [
       "<Figure size 1080x720 with 3 Axes>"
      ]
     },
     "metadata": {},
     "output_type": "display_data"
    }
   ],
   "source": [
    "from keras import models\n",
    "\n",
    "layers = [layer.output for layer in model.layers[:4]]\n",
    "model_layers = models.Model(inputs=model.input, output=layers)\n",
    "activations = model_layers.predict(x_train)\n",
    "\n",
    "fig = plt.figure(figsize=(15, 10))\n",
    "\n",
    "plt.subplot(1,3,1)\n",
    "plt.title(\"Original\")\n",
    "plt.imshow(x_train[9].reshape(28, 28), cmap=\"gray\")\n",
    "plt.xticks([])\n",
    "plt.yticks([])\n",
    "\n",
    "for f in range(1,3):\n",
    "    plt.subplot(1,3, f+1)\n",
    "    plt.title(\"Convolutional layer %d\" %f)\n",
    "    layer_activation = activations[f]\n",
    "    plt.imshow(layer_activation[9, :, :, 0], cmap=\"gray\")\n",
    "    plt.xticks([])\n",
    "    plt.yticks([])\n",
    "\n",
    "plt.show()"
   ]
  }
 ],
 "metadata": {
  "kernelspec": {
   "display_name": "keras_mnist",
   "language": "python",
   "name": "keras_mnist"
  },
  "language_info": {
   "codemirror_mode": {
    "name": "ipython",
    "version": 3
   },
   "file_extension": ".py",
   "mimetype": "text/x-python",
   "name": "python",
   "nbconvert_exporter": "python",
   "pygments_lexer": "ipython3",
   "version": "3.5.2"
  }
 },
 "nbformat": 4,
 "nbformat_minor": 2
}
